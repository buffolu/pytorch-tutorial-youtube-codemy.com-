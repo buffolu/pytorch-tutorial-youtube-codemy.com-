{
  "nbformat": 4,
  "nbformat_minor": 0,
  "metadata": {
    "colab": {
      "provenance": [],
      "gpuType": "T4",
      "authorship_tag": "ABX9TyNqOkDyOnTL3mPE2WGzBMca",
      "include_colab_link": true
    },
    "kernelspec": {
      "name": "python3",
      "display_name": "Python 3"
    },
    "language_info": {
      "name": "python"
    },
    "accelerator": "GPU"
  },
  "cells": [
    {
      "cell_type": "markdown",
      "metadata": {
        "id": "view-in-github",
        "colab_type": "text"
      },
      "source": [
        "<a href=\"https://colab.research.google.com/github/buffolu/pytorch-tutorial-youtube-codemy.com-/blob/main/lesson4_NN.ipynb\" target=\"_parent\"><img src=\"https://colab.research.google.com/assets/colab-badge.svg\" alt=\"Open In Colab\"/></a>"
      ]
    },
    {
      "cell_type": "code",
      "execution_count": 1,
      "metadata": {
        "id": "a4HfF3v7CWeG"
      },
      "outputs": [],
      "source": [
        "import torch"
      ]
    },
    {
      "cell_type": "code",
      "source": [
        "import torch.nn as nn\n",
        "import torch.nn.functional as F\n"
      ],
      "metadata": {
        "id": "EpfFbqEAClCm"
      },
      "execution_count": 2,
      "outputs": []
    },
    {
      "cell_type": "code",
      "source": [
        "#Create a Model Class that inherits nn.Module"
      ],
      "metadata": {
        "id": "M8zpI2IGC-pF"
      },
      "execution_count": 3,
      "outputs": []
    },
    {
      "cell_type": "code",
      "source": [
        "class Model(nn.Module):\n",
        "   #input layer(4 features of flower) --> Hidden layer1(number of neurons)-->H2(n)-->output(3 class of iris flowres)\n",
        "\n",
        "    def __init__(self,in_features = 4,h1 = 8,h2=9, out_features=3):\n",
        "        super().__init__()\n",
        "        self.fc1 = nn.Linear(in_features,h1)\n",
        "        self.fc2 = nn.Linear(h1,h2)\n",
        "        self.out = nn.Linear(h2,out_features)\n",
        "\n",
        "    def forward(self,x):\n",
        "      x = F.relu(self.fc1(x))\n",
        "      x = F.relu(self.fc2(x))\n",
        "      x = self.out(x)\n",
        "      return x\n",
        "\n",
        "\n"
      ],
      "metadata": {
        "id": "JpYtmWHKDDQ7"
      },
      "execution_count": 8,
      "outputs": []
    },
    {
      "cell_type": "code",
      "source": [
        "#pick a seed for randomization\n",
        "torch.manual_seed(32)\n",
        "#Create instnace of model\n",
        "model = Model()"
      ],
      "metadata": {
        "id": "sLGuZ0f0Fr12"
      },
      "execution_count": 10,
      "outputs": []
    },
    {
      "cell_type": "code",
      "source": [],
      "metadata": {
        "id": "XyTjgtlSGA46"
      },
      "execution_count": null,
      "outputs": []
    }
  ]
}